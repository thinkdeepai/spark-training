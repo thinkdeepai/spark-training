{
  "nbformat": 4,
  "nbformat_minor": 0,
  "metadata": {
    "colab": {
      "provenance": [],
      "include_colab_link": true
    },
    "kernelspec": {
      "name": "python3",
      "display_name": "Python 3"
    },
    "language_info": {
      "name": "python"
    }
  },
  "cells": [
    {
      "cell_type": "markdown",
      "metadata": {
        "id": "view-in-github",
        "colab_type": "text"
      },
      "source": [
        "<a href=\"https://colab.research.google.com/github/thinkdeepai/spark-training/blob/main/Spark_Training_Spark_Streaming_RDD_WordCount.ipynb\" target=\"_parent\"><img src=\"https://colab.research.google.com/assets/colab-badge.svg\" alt=\"Open In Colab\"/></a>"
      ]
    },
    {
      "cell_type": "code",
      "metadata": {
        "id": "cgpjNcWAjjm7"
      },
      "source": [
        "# download and install dependencies\n",
        "!apt-get install openjdk-8-jdk-headless -qq > /dev/null\n",
        "!wget -q https://downloads.apache.org/spark/spark-3.2.4/spark-3.2.4-bin-hadoop2.7.tgz\n",
        "!tar xf spark-3.2.4-bin-hadoop2.7.tgz\n",
        "!pip install -q findspark\n",
        "!pip install -q pyngrok\n",
        "!hostname"
      ],
      "execution_count": null,
      "outputs": []
    },
    {
      "cell_type": "code",
      "metadata": {
        "id": "mFMTmHBsj7j1"
      },
      "source": [
        "import os\n",
        "\n",
        "# set the environment variables\n",
        "os.environ[\"JAVA_HOME\"] = \"/usr/lib/jvm/java-8-openjdk-amd64\"\n",
        "os.environ[\"SPARK_HOME\"] = \"/content/spark-3.2.4-bin-hadoop2.7\""
      ],
      "execution_count": null,
      "outputs": []
    },
    {
      "cell_type": "code",
      "metadata": {
        "id": "H3e56yeXjkHD"
      },
      "source": [
        "import findspark\n",
        "findspark.init()\n",
        "\n",
        "from operator import add, sub\n",
        "from time import sleep\n",
        "from pyspark.streaming import StreamingContext\n",
        "from pyspark import SparkContext, SparkConf\n",
        "from pyspark.sql import SparkSession\n",
        "\n",
        "# create the session\n",
        "conf = SparkConf().set(\"spark.ui.port\", \"4050\")\n",
        "\n",
        "# create the context\n",
        "sc = SparkContext(conf=conf)\n",
        "spark = SparkSession.builder.getOrCreate()"
      ],
      "execution_count": null,
      "outputs": []
    },
    {
      "cell_type": "code",
      "source": [
        "# Read the input file and Calculating words count\n",
        "# Try the following text (Caesar's Gallic Wars): https://raw.githubusercontent.com/deanwampler/spark-scala-tutorial/master/data/gallic.mb.txt\n",
        "!wget https://raw.githubusercontent.com/deanwampler/spark-scala-tutorial/master/data/gallic.mb.txt\n",
        "text_file = sc.textFile(\"gallic.mb.txt\")"
      ],
      "metadata": {
        "id": "_8eMRHaeyCQ1",
        "outputId": "96805e2b-1200-4b31-da8f-ee20843338f0",
        "colab": {
          "base_uri": "https://localhost:8080/"
        }
      },
      "execution_count": null,
      "outputs": [
        {
          "output_type": "stream",
          "name": "stdout",
          "text": [
            "--2023-07-07 14:49:42--  https://raw.githubusercontent.com/deanwampler/spark-scala-tutorial/master/data/gallic.mb.txt\n",
            "Resolving raw.githubusercontent.com (raw.githubusercontent.com)... 185.199.111.133, 185.199.109.133, 185.199.108.133, ...\n",
            "Connecting to raw.githubusercontent.com (raw.githubusercontent.com)|185.199.111.133|:443... connected.\n",
            "HTTP request sent, awaiting response... 200 OK\n",
            "Length: 496659 (485K) [text/plain]\n",
            "Saving to: ‘gallic.mb.txt’\n",
            "\n",
            "\rgallic.mb.txt         0%[                    ]       0  --.-KB/s               \rgallic.mb.txt       100%[===================>] 485.02K  --.-KB/s    in 0.04s   \n",
            "\n",
            "2023-07-07 14:49:43 (12.6 MB/s) - ‘gallic.mb.txt’ saved [496659/496659]\n",
            "\n"
          ]
        }
      ]
    },
    {
      "cell_type": "code",
      "source": [
        "ssc = StreamingContext(sc, 1)\n",
        "\n",
        "# Input data\n",
        "rddQueue = [text_file]\n",
        "\n",
        "inputStream = ssc.queueStream(rddQueue)"
      ],
      "metadata": {
        "id": "5yFEEH-_BFbS"
      },
      "execution_count": null,
      "outputs": []
    },
    {
      "cell_type": "code",
      "source": [
        "text_file.take(10)"
      ],
      "metadata": {
        "id": "HmD6F37j0pm-",
        "outputId": "95b54cbf-f780-4ae5-e5df-9bee9fd2300b",
        "colab": {
          "base_uri": "https://localhost:8080/"
        }
      },
      "execution_count": null,
      "outputs": [
        {
          "output_type": "execute_result",
          "data": {
            "text/plain": [
              "['',\n",
              " 'BOOK 1',\n",
              " '',\n",
              " 'Chapter 1',\n",
              " '',\n",
              " 'All Gaul is divided into three parts, one of which the Belgae inhabit,',\n",
              " 'the Aquitani another, those who in their own language are called Celts,',\n",
              " 'in our Gauls, the third. All these differ from each other in language,',\n",
              " 'customs and laws. The river Garonne separates the Gauls from the Aquitani;',\n",
              " 'the Marne and the Seine separate them from the Belgae. Of all these,']"
            ]
          },
          "metadata": {},
          "execution_count": 7
        }
      ]
    },
    {
      "cell_type": "code",
      "source": [
        "# Ex1: Implement the Wordcount\n",
        "wordCount = inputStream.flatMap(lambda x: x.split(\" \")) \\\n",
        "  .filter(lambda x: x != '') \\\n",
        "  .filteredLines.map(lambda x: (x,1)) \\\n",
        "  .reduceByKeyAndWindow(lambda x,y: x+y)\n",
        "wordCount.pprint(10)"
      ],
      "metadata": {
        "id": "oBjn__6tCw0a"
      },
      "execution_count": null,
      "outputs": []
    },
    {
      "cell_type": "code",
      "source": [
        "ssc.start()\n",
        "sleep(20)"
      ],
      "metadata": {
        "id": "6OG7kt1aBhzR",
        "outputId": "9457d6b3-ca43-40c2-f81b-264998a111e2",
        "colab": {
          "base_uri": "https://localhost:8080/",
          "height": 1000
        }
      },
      "execution_count": null,
      "outputs": [
        {
          "output_type": "stream",
          "name": "stdout",
          "text": [
            "-------------------------------------------\n",
            "Time: 2023-07-07 14:50:04\n",
            "-------------------------------------------\n",
            "\n",
            "BOOK\n",
            "1\n",
            "\n",
            "Chapter\n",
            "1\n",
            "\n",
            "All\n",
            "Gaul\n",
            "is\n",
            "...\n",
            "\n",
            "-------------------------------------------\n",
            "Time: 2023-07-07 14:50:05\n",
            "-------------------------------------------\n",
            "\n",
            "-------------------------------------------\n",
            "Time: 2023-07-07 14:50:06\n",
            "-------------------------------------------\n",
            "\n",
            "-------------------------------------------\n",
            "Time: 2023-07-07 14:50:07\n",
            "-------------------------------------------\n",
            "\n",
            "-------------------------------------------\n",
            "Time: 2023-07-07 14:50:08\n",
            "-------------------------------------------\n",
            "\n",
            "-------------------------------------------\n",
            "Time: 2023-07-07 14:50:09\n",
            "-------------------------------------------\n",
            "\n",
            "-------------------------------------------\n",
            "Time: 2023-07-07 14:50:10\n",
            "-------------------------------------------\n",
            "\n",
            "-------------------------------------------\n",
            "Time: 2023-07-07 14:50:11\n",
            "-------------------------------------------\n",
            "\n",
            "-------------------------------------------\n",
            "Time: 2023-07-07 14:50:12\n",
            "-------------------------------------------\n",
            "\n",
            "-------------------------------------------\n",
            "Time: 2023-07-07 14:50:13\n",
            "-------------------------------------------\n",
            "\n",
            "-------------------------------------------\n",
            "Time: 2023-07-07 14:50:14\n",
            "-------------------------------------------\n",
            "\n",
            "-------------------------------------------\n",
            "Time: 2023-07-07 14:50:15\n",
            "-------------------------------------------\n",
            "\n",
            "-------------------------------------------\n",
            "Time: 2023-07-07 14:50:16\n",
            "-------------------------------------------\n",
            "\n",
            "-------------------------------------------\n",
            "Time: 2023-07-07 14:50:17\n",
            "-------------------------------------------\n",
            "\n",
            "-------------------------------------------\n",
            "Time: 2023-07-07 14:50:18\n",
            "-------------------------------------------\n",
            "\n",
            "-------------------------------------------\n",
            "Time: 2023-07-07 14:50:19\n",
            "-------------------------------------------\n",
            "\n",
            "-------------------------------------------\n",
            "Time: 2023-07-07 14:50:20\n",
            "-------------------------------------------\n",
            "\n",
            "-------------------------------------------\n",
            "Time: 2023-07-07 14:50:21\n",
            "-------------------------------------------\n",
            "\n"
          ]
        },
        {
          "output_type": "error",
          "ename": "KeyboardInterrupt",
          "evalue": "ignored",
          "traceback": [
            "\u001b[0;31m---------------------------------------------------------------------------\u001b[0m",
            "\u001b[0;31mKeyboardInterrupt\u001b[0m                         Traceback (most recent call last)",
            "\u001b[0;32m<ipython-input-9-e3c6e2de2f64>\u001b[0m in \u001b[0;36m<cell line: 2>\u001b[0;34m()\u001b[0m\n\u001b[1;32m      1\u001b[0m \u001b[0mssc\u001b[0m\u001b[0;34m.\u001b[0m\u001b[0mstart\u001b[0m\u001b[0;34m(\u001b[0m\u001b[0;34m)\u001b[0m\u001b[0;34m\u001b[0m\u001b[0;34m\u001b[0m\u001b[0m\n\u001b[0;32m----> 2\u001b[0;31m \u001b[0msleep\u001b[0m\u001b[0;34m(\u001b[0m\u001b[0;36m20\u001b[0m\u001b[0;34m)\u001b[0m\u001b[0;34m\u001b[0m\u001b[0;34m\u001b[0m\u001b[0m\n\u001b[0m",
            "\u001b[0;31mKeyboardInterrupt\u001b[0m: "
          ]
        }
      ]
    },
    {
      "cell_type": "code",
      "source": [
        "ssc.stop(stopSparkContext=True, stopGraceFully=True)"
      ],
      "metadata": {
        "id": "ddeqyZSwCHkS",
        "outputId": "13086c88-d5c3-4665-b76c-82b5e82067f8",
        "colab": {
          "base_uri": "https://localhost:8080/"
        }
      },
      "execution_count": null,
      "outputs": [
        {
          "output_type": "stream",
          "name": "stdout",
          "text": [
            "-------------------------------------------\n",
            "Time: 2023-07-07 14:46:22\n",
            "-------------------------------------------\n",
            "\n",
            "-------------------------------------------\n",
            "Time: 2023-07-07 14:46:23\n",
            "-------------------------------------------\n",
            "\n"
          ]
        }
      ]
    }
  ]
}