{
  "cells": [
    {
      "cell_type": "markdown",
      "metadata": {
        "id": "view-in-github",
        "colab_type": "text"
      },
      "source": [
        "<a href=\"https://colab.research.google.com/github/thinkdeepai/spark-training/blob/main/Spark_Training_WordCount.ipynb\" target=\"_parent\"><img src=\"https://colab.research.google.com/assets/colab-badge.svg\" alt=\"Open In Colab\"/></a>"
      ]
    },
    {
      "cell_type": "code",
      "execution_count": null,
      "metadata": {
        "colab": {
          "base_uri": "https://localhost:8080/"
        },
        "id": "0KF5BK9NDeF0",
        "outputId": "19306fc0-5485-4338-d826-7f86245ef5a7"
      },
      "outputs": [
        {
          "output_type": "stream",
          "name": "stdout",
          "text": [
            "\u001b[?25l     \u001b[90m━━━━━━━━━━━━━━━━━━━━━━━━━━━━━━━━━━━━━━━━\u001b[0m \u001b[32m0.0/681.2 kB\u001b[0m \u001b[31m?\u001b[0m eta \u001b[36m-:--:--\u001b[0m\r\u001b[2K     \u001b[91m━━━━━━━━━━━━━━━━━━━━━━━━━━━━━━━━━━━━━\u001b[0m\u001b[91m╸\u001b[0m \u001b[32m675.8/681.2 kB\u001b[0m \u001b[31m19.9 MB/s\u001b[0m eta \u001b[36m0:00:01\u001b[0m\r\u001b[2K     \u001b[90m━━━━━━━━━━━━━━━━━━━━━━━━━━━━━━━━━━━━━━\u001b[0m \u001b[32m681.2/681.2 kB\u001b[0m \u001b[31m13.7 MB/s\u001b[0m eta \u001b[36m0:00:00\u001b[0m\n",
            "\u001b[?25h  Preparing metadata (setup.py) ... \u001b[?25l\u001b[?25hdone\n",
            "  Building wheel for pyngrok (setup.py) ... \u001b[?25l\u001b[?25hdone\n",
            "e3f3665a5d4b\n"
          ]
        }
      ],
      "source": [
        "# download and install dependencies\n",
        "!apt-get install openjdk-8-jdk-headless -qq > /dev/null\n",
        "!wget -q https://downloads.apache.org/spark/spark-3.2.4/spark-3.2.4-bin-hadoop2.7.tgz\n",
        "!tar xf spark-3.2.4-bin-hadoop2.7.tgz\n",
        "!pip install -q findspark\n",
        "!pip install -q pyngrok\n",
        "!hostname"
      ]
    },
    {
      "cell_type": "code",
      "execution_count": null,
      "metadata": {
        "id": "Tj1kA-7ADfly"
      },
      "outputs": [],
      "source": [
        "import os\n",
        "\n",
        "# set the environment variables\n",
        "os.environ[\"JAVA_HOME\"] = \"/usr/lib/jvm/java-8-openjdk-amd64\"\n",
        "os.environ[\"SPARK_HOME\"] = \"/content/spark-3.2.4-bin-hadoop2.7\""
      ]
    },
    {
      "cell_type": "code",
      "execution_count": null,
      "metadata": {
        "colab": {
          "base_uri": "https://localhost:8080/",
          "height": 260
        },
        "id": "3d5px-tHDjjo",
        "outputId": "4e6b4163-1e90-4521-b3ea-ed91d44cd03e"
      },
      "outputs": [
        {
          "output_type": "error",
          "ename": "ValueError",
          "evalue": "ignored",
          "traceback": [
            "\u001b[0;31m---------------------------------------------------------------------------\u001b[0m",
            "\u001b[0;31mValueError\u001b[0m                                Traceback (most recent call last)",
            "\u001b[0;32m<ipython-input-7-48af606f7acf>\u001b[0m in \u001b[0;36m<cell line: 10>\u001b[0;34m()\u001b[0m\n\u001b[1;32m      8\u001b[0m \u001b[0;34m\u001b[0m\u001b[0m\n\u001b[1;32m      9\u001b[0m \u001b[0;31m# create the context\u001b[0m\u001b[0;34m\u001b[0m\u001b[0;34m\u001b[0m\u001b[0m\n\u001b[0;32m---> 10\u001b[0;31m \u001b[0msc\u001b[0m \u001b[0;34m=\u001b[0m \u001b[0mSparkContext\u001b[0m\u001b[0;34m(\u001b[0m\u001b[0mconf\u001b[0m\u001b[0;34m=\u001b[0m\u001b[0mconf\u001b[0m\u001b[0;34m)\u001b[0m\u001b[0;34m\u001b[0m\u001b[0;34m\u001b[0m\u001b[0m\n\u001b[0m\u001b[1;32m     11\u001b[0m \u001b[0mspark\u001b[0m \u001b[0;34m=\u001b[0m \u001b[0mSparkSession\u001b[0m\u001b[0;34m.\u001b[0m\u001b[0mbuilder\u001b[0m\u001b[0;34m.\u001b[0m\u001b[0mgetOrCreate\u001b[0m\u001b[0;34m(\u001b[0m\u001b[0;34m)\u001b[0m\u001b[0;34m\u001b[0m\u001b[0;34m\u001b[0m\u001b[0m\n",
            "\u001b[0;32m/content/spark-3.2.4-bin-hadoop2.7/python/pyspark/context.py\u001b[0m in \u001b[0;36m__init__\u001b[0;34m(self, master, appName, sparkHome, pyFiles, environment, batchSize, serializer, conf, gateway, jsc, profiler_cls)\u001b[0m\n\u001b[1;32m    142\u001b[0m                 \" is not allowed as it is a security risk.\")\n\u001b[1;32m    143\u001b[0m \u001b[0;34m\u001b[0m\u001b[0m\n\u001b[0;32m--> 144\u001b[0;31m         \u001b[0mSparkContext\u001b[0m\u001b[0;34m.\u001b[0m\u001b[0m_ensure_initialized\u001b[0m\u001b[0;34m(\u001b[0m\u001b[0mself\u001b[0m\u001b[0;34m,\u001b[0m \u001b[0mgateway\u001b[0m\u001b[0;34m=\u001b[0m\u001b[0mgateway\u001b[0m\u001b[0;34m,\u001b[0m \u001b[0mconf\u001b[0m\u001b[0;34m=\u001b[0m\u001b[0mconf\u001b[0m\u001b[0;34m)\u001b[0m\u001b[0;34m\u001b[0m\u001b[0;34m\u001b[0m\u001b[0m\n\u001b[0m\u001b[1;32m    145\u001b[0m         \u001b[0;32mtry\u001b[0m\u001b[0;34m:\u001b[0m\u001b[0;34m\u001b[0m\u001b[0;34m\u001b[0m\u001b[0m\n\u001b[1;32m    146\u001b[0m             self._do_init(master, appName, sparkHome, pyFiles, environment, batchSize, serializer,\n",
            "\u001b[0;32m/content/spark-3.2.4-bin-hadoop2.7/python/pyspark/context.py\u001b[0m in \u001b[0;36m_ensure_initialized\u001b[0;34m(cls, instance, gateway, conf)\u001b[0m\n\u001b[1;32m    348\u001b[0m \u001b[0;34m\u001b[0m\u001b[0m\n\u001b[1;32m    349\u001b[0m                     \u001b[0;31m# Raise error if there is already a running Spark context\u001b[0m\u001b[0;34m\u001b[0m\u001b[0;34m\u001b[0m\u001b[0m\n\u001b[0;32m--> 350\u001b[0;31m                     raise ValueError(\n\u001b[0m\u001b[1;32m    351\u001b[0m                         \u001b[0;34m\"Cannot run multiple SparkContexts at once; \"\u001b[0m\u001b[0;34m\u001b[0m\u001b[0;34m\u001b[0m\u001b[0m\n\u001b[1;32m    352\u001b[0m                         \u001b[0;34m\"existing SparkContext(app=%s, master=%s)\"\u001b[0m\u001b[0;34m\u001b[0m\u001b[0;34m\u001b[0m\u001b[0m\n",
            "\u001b[0;31mValueError\u001b[0m: Cannot run multiple SparkContexts at once; existing SparkContext(app=pyspark-shell, master=local[*]) created by __init__ at <ipython-input-3-48af606f7acf>:10 "
          ]
        }
      ],
      "source": [
        "import findspark\n",
        "findspark.init()\n",
        "from pyspark.sql import SparkSession\n",
        "from pyspark import SparkContext, SparkConf\n",
        "\n",
        "# create the session\n",
        "conf = SparkConf().set(\"spark.ui.port\", \"4050\")\n",
        "\n",
        "# create the context\n",
        "sc = SparkContext(conf=conf)\n",
        "spark = SparkSession.builder.getOrCreate()"
      ]
    },
    {
      "cell_type": "code",
      "execution_count": null,
      "metadata": {
        "colab": {
          "base_uri": "https://localhost:8080/",
          "height": 219
        },
        "id": "batqH1d6FRAl",
        "outputId": "5d3b3c04-31cf-4c39-cfcc-b341be389001"
      },
      "outputs": [
        {
          "output_type": "execute_result",
          "data": {
            "text/plain": [
              "<pyspark.sql.session.SparkSession at 0x7f8f66e5a950>"
            ],
            "text/html": [
              "\n",
              "            <div>\n",
              "                <p><b>SparkSession - in-memory</b></p>\n",
              "                \n",
              "        <div>\n",
              "            <p><b>SparkContext</b></p>\n",
              "\n",
              "            <p><a href=\"http://e3f3665a5d4b:4050\">Spark UI</a></p>\n",
              "\n",
              "            <dl>\n",
              "              <dt>Version</dt>\n",
              "                <dd><code>v3.2.4</code></dd>\n",
              "              <dt>Master</dt>\n",
              "                <dd><code>local[*]</code></dd>\n",
              "              <dt>AppName</dt>\n",
              "                <dd><code>pyspark-shell</code></dd>\n",
              "            </dl>\n",
              "        </div>\n",
              "        \n",
              "            </div>\n",
              "        "
            ]
          },
          "metadata": {},
          "execution_count": 4
        }
      ],
      "source": [
        "# verify the availability of Spark v3.2.4\n",
        "spark"
      ]
    },
    {
      "cell_type": "code",
      "execution_count": null,
      "metadata": {
        "colab": {
          "base_uri": "https://localhost:8080/"
        },
        "id": "hXiE0YmOxE8i",
        "outputId": "6c7bb1cc-ad19-456a-9f9b-8a918ad24877"
      },
      "outputs": [
        {
          "output_type": "stream",
          "name": "stdout",
          "text": []
        },
        {
          "output_type": "stream",
          "name": "stderr",
          "text": [
            "WARNING:pyngrok.process.ngrok:t=2023-07-07T12:44:30+0000 lvl=warn msg=\"ngrok config file found at legacy location, move to XDG location\" xdg_path=/root/.config/ngrok/ngrok.yml legacy_path=/root/.ngrok2/ngrok.yml\n"
          ]
        },
        {
          "output_type": "stream",
          "name": "stdout",
          "text": [
            "Link to Spark History: https://abb7-34-125-23-129.ngrok-free.app\n"
          ]
        }
      ],
      "source": [
        "# For this you need to create a free account on ngrok.com and enter your auth token below (replace AUHT_TOKEN)\n",
        "NGROK_AUTH_TOKEN = \"2CXOq3cZSdyxDgL97aR8zRo69KF_2PiUKLMyzpcxqq5TuLYQf\"\n",
        "\n",
        "# Export Spark history URL\n",
        "from pyngrok import ngrok, conf\n",
        "\n",
        "conf.get_default().auth_token = NGROK_AUTH_TOKEN\n",
        "\n",
        "# Open a TCP ngrok tunnel to the SSH server\n",
        "connection_string = ngrok.connect(4050, \"http\").public_url\n",
        "\n",
        "print(f\"Link to Spark History: {connection_string}\")"
      ]
    },
    {
      "cell_type": "code",
      "execution_count": null,
      "metadata": {
        "colab": {
          "base_uri": "https://localhost:8080/"
        },
        "id": "jngd94pHDkGU",
        "outputId": "c42f6d1c-57d0-4098-d329-b7b70f05b4ea"
      },
      "outputs": [
        {
          "output_type": "stream",
          "name": "stdout",
          "text": [
            "--2023-07-07 12:44:35--  https://raw.githubusercontent.com/deanwampler/spark-scala-tutorial/master/data/gallic.mb.txt\n",
            "Resolving raw.githubusercontent.com (raw.githubusercontent.com)... 185.199.108.133, 185.199.109.133, 185.199.110.133, ...\n",
            "Connecting to raw.githubusercontent.com (raw.githubusercontent.com)|185.199.108.133|:443... connected.\n",
            "HTTP request sent, awaiting response... 200 OK\n",
            "Length: 496659 (485K) [text/plain]\n",
            "Saving to: ‘gallic.mb.txt’\n",
            "\n",
            "gallic.mb.txt       100%[===================>] 485.02K  --.-KB/s    in 0.04s   \n",
            "\n",
            "2023-07-07 12:44:35 (11.2 MB/s) - ‘gallic.mb.txt’ saved [496659/496659]\n",
            "\n"
          ]
        }
      ],
      "source": [
        "# Read the input file and Calculating words count\n",
        "# Try the following text (Caesar's Gallic Wars): https://raw.githubusercontent.com/deanwampler/spark-scala-tutorial/master/data/gallic.mb.txt\n",
        "!wget https://raw.githubusercontent.com/deanwampler/spark-scala-tutorial/master/data/gallic.mb.txt\n",
        "text_file = sc.textFile(\"gallic.mb.txt\")"
      ]
    },
    {
      "cell_type": "code",
      "execution_count": null,
      "metadata": {
        "collapsed": true,
        "id": "wEAFap0L2aVq"
      },
      "outputs": [],
      "source": [
        "# Ex1: Implement the Wordcount\n",
        "# 1.1 Split each line per word\n",
        "text_words = text_file.flatMap(lambda x: x.split(\" \"))\n",
        "text_words_filtered = text_words.filter(lambda x: x != '')\n",
        "# 1.2 Create tuple for each word\n",
        "text_tuples = text_words_filtered.map(lambda x: (x,1))\n",
        "# 1.2 For the same word, add each tuple add the result\n",
        "text_counts = text_tuples.reduceByKey(lambda x,y: x+y)"
      ]
    },
    {
      "cell_type": "markdown",
      "metadata": {
        "id": "DqIoigMIPIcK"
      },
      "source": []
    },
    {
      "cell_type": "code",
      "execution_count": null,
      "metadata": {
        "colab": {
          "base_uri": "https://localhost:8080/"
        },
        "collapsed": true,
        "id": "6fYUuPMhDoju",
        "outputId": "72e31603-527e-4fa6-bbea-72223bee088f"
      },
      "outputs": [
        {
          "output_type": "execute_result",
          "data": {
            "text/plain": [
              "[('BOOK', 8),\n",
              " ('1', 10),\n",
              " ('Chapter', 402),\n",
              " ('Gaul', 65),\n",
              " ('is', 216),\n",
              " ('into', 250),\n",
              " ('three', 68),\n",
              " ('of', 3192),\n",
              " ('Belgae', 18),\n",
              " ('in', 1412)]"
            ]
          },
          "metadata": {},
          "execution_count": 11
        }
      ],
      "source": [
        "# Ex2: Display the result\n",
        "text_counts.take(10)"
      ]
    },
    {
      "cell_type": "code",
      "execution_count": null,
      "metadata": {
        "colab": {
          "base_uri": "https://localhost:8080/"
        },
        "id": "MJX8lipnqLkd",
        "outputId": "e3b93232-eb22-4aee-d184-60c6914022a0",
        "collapsed": true
      },
      "outputs": [
        {
          "output_type": "execute_result",
          "data": {
            "text/plain": [
              "[('\"Dumnorix', 1),\n",
              " ('\"For', 1),\n",
              " ('\"I', 1),\n",
              " ('\"If', 2),\n",
              " ('\"In', 2),\n",
              " ('\"Leap,', 1),\n",
              " ('\"Prevail,\"', 1),\n",
              " ('\"Since', 1),\n",
              " ('\"Since,', 1),\n",
              " ('\"Soldiers,', 2),\n",
              " ('\"That', 15),\n",
              " ('\"That,', 1),\n",
              " ('\"The', 1),\n",
              " ('\"These', 1),\n",
              " ('\"Victory,\"', 1),\n",
              " ('\"Why', 3),\n",
              " ('\"any,', 1),\n",
              " ('\"brethren\"', 1),\n",
              " ('\"cippi.\"', 1),\n",
              " ('\"friend\"', 1),\n",
              " ('\"he', 5),\n",
              " ('\"if', 3),\n",
              " ('\"in', 1),\n",
              " ('\"kinsmen,\"', 1),\n",
              " ('\"leaving', 1),\n",
              " ('\"neither', 1),\n",
              " ('\"no', 1),\n",
              " ('\"nor', 1),\n",
              " ('\"not', 3),\n",
              " ('\"on', 1),\n",
              " ('\"particularly,', 1),\n",
              " ('\"remember', 1),\n",
              " ('\"since', 1),\n",
              " ('\"that', 21),\n",
              " ('\"the', 3),\n",
              " ('\"they', 5),\n",
              " ('\"to', 3),\n",
              " ('\"trust', 1),\n",
              " ('\"what', 2),\n",
              " ('\"who', 2),\n",
              " ('\"why', 1),\n",
              " ('\"with', 2),\n",
              " ('\"you', 2),\n",
              " (\"'brethren'\", 1),\n",
              " (\"'brothers'\", 1),\n",
              " (\"'king\", 1),\n",
              " ('(Gaul,', 1),\n",
              " ('(Now', 1),\n",
              " ('(Roman)', 1),\n",
              " ('(a', 2),\n",
              " ('(affrighted),', 1),\n",
              " ('(already', 1),\n",
              " ('(among', 1),\n",
              " ('(an', 1),\n",
              " ('(as', 8),\n",
              " ('(at', 1),\n",
              " ('(because', 1),\n",
              " ('(by', 2),\n",
              " ('(except', 1),\n",
              " ('(fearing', 1),\n",
              " ('(for', 15),\n",
              " ('(forasmuch', 1),\n",
              " ('(from', 1),\n",
              " ('(i.', 1),\n",
              " ('(in', 6),\n",
              " ('(noon)', 1),\n",
              " ('(of', 2),\n",
              " ('(one', 1),\n",
              " ('(opposite', 1),\n",
              " ('(since', 2),\n",
              " ('(since,', 1),\n",
              " ('(sixty', 1),\n",
              " ('(so', 2),\n",
              " ('(some', 2),\n",
              " ('(the', 3),\n",
              " ('(therein).', 1),\n",
              " ('(this', 2),\n",
              " ('(through', 1),\n",
              " ('(two', 1),\n",
              " ('(which', 11),\n",
              " ('(which,', 3),\n",
              " ('(who', 4),\n",
              " ('(whom', 3),\n",
              " ('(whose', 5),\n",
              " (',', 1),\n",
              " ('-', 46),\n",
              " ('----------------------------------------------------------------------', 7),\n",
              " ('.', 48),\n",
              " ('.-', 1),\n",
              " ('0', 1),\n",
              " ('1', 10),\n",
              " ('10', 8),\n",
              " ('10,000;', 2),\n",
              " ('100', 1),\n",
              " ('100,000', 1),\n",
              " ('11', 8),\n",
              " ('110,000.', 1),\n",
              " ('12', 9),\n",
              " ('120', 1),\n",
              " ('120,000', 1)]"
            ]
          },
          "metadata": {},
          "execution_count": 12
        }
      ],
      "source": [
        "# Ex3: Sort RDD by key (word) ascending\n",
        "# https://spark.apache.org/docs/latest/api/python/reference/api/pyspark.RDD.sortBy.html#pyspark.RDD.sortBy\n",
        "text_counts.sortByKey().take(100)"
      ]
    },
    {
      "cell_type": "code",
      "execution_count": null,
      "metadata": {
        "id": "pZ3zxzYpqMi6"
      },
      "outputs": [],
      "source": [
        "# Ex4: Sort RDD by value (count) descending\n",
        "# https://spark.apache.org/docs/latest/api/python/reference/api/pyspark.RDD.sortBy.html#pyspark.RDD.sortBy\n",
        "text_words_sorted = text_counts.sortBy(lambda x: x[1], ascending=False)"
      ]
    },
    {
      "cell_type": "code",
      "execution_count": null,
      "metadata": {
        "id": "ZV0m8-ZKTXVm"
      },
      "outputs": [],
      "source": [
        "text_words_parititoned = text_words_sorted.repartition(10)"
      ]
    },
    {
      "cell_type": "code",
      "execution_count": null,
      "metadata": {
        "id": "LAoRhPA1qoK-"
      },
      "outputs": [],
      "source": [
        "# Ex5: Write RDD to disk\n",
        "text_words_parititoned.saveAsTextFile(\"words_partitions/output.txt\")"
      ]
    },
    {
      "cell_type": "code",
      "execution_count": null,
      "metadata": {
        "collapsed": true,
        "id": "Sic90zS1Tici"
      },
      "outputs": [],
      "source": [
        "text_words_persisted = text_words_sorted.persist()"
      ]
    },
    {
      "cell_type": "code",
      "execution_count": null,
      "metadata": {
        "colab": {
          "base_uri": "https://localhost:8080/"
        },
        "collapsed": true,
        "id": "imyk5MPXWBfC",
        "outputId": "1c129be9-789e-450b-e0e1-51b77053d00d"
      },
      "outputs": [
        {
          "output_type": "execute_result",
          "data": {
            "text/plain": [
              "[('the', 6956),\n",
              " ('of', 3192),\n",
              " ('and', 3079),\n",
              " ('to', 2771),\n",
              " ('that', 1485),\n",
              " ('in', 1412),\n",
              " ('he', 1345),\n",
              " ('a', 1273),\n",
              " ('they', 1137),\n",
              " ('their', 1105),\n",
              " ('had', 1039),\n",
              " ('by', 1002),\n",
              " ('his', 845),\n",
              " ('from', 772),\n",
              " ('was', 756),\n",
              " ('with', 711),\n",
              " ('were', 635),\n",
              " ('on', 597),\n",
              " ('be', 590),\n",
              " ('which', 589),\n",
              " ('as', 577),\n",
              " ('for', 546),\n",
              " ('not', 506),\n",
              " ('all', 474),\n",
              " ('them', 425),\n",
              " ('Chapter', 402),\n",
              " ('at', 371),\n",
              " ('should', 318),\n",
              " ('this', 310),\n",
              " ('our', 309),\n",
              " ('been', 307),\n",
              " ('having', 301),\n",
              " ('it', 293),\n",
              " ('who', 290),\n",
              " ('great', 290),\n",
              " ('being', 288),\n",
              " ('him', 251),\n",
              " ('into', 250),\n",
              " ('Caesar', 250),\n",
              " ('those', 245),\n",
              " ('would', 232),\n",
              " ('these', 227),\n",
              " ('when', 226),\n",
              " ('one', 225),\n",
              " ('could', 223),\n",
              " ('The', 220),\n",
              " ('is', 216),\n",
              " ('are', 210),\n",
              " ('an', 208),\n",
              " ('have', 202),\n",
              " ('men', 188),\n",
              " ('enemy', 186),\n",
              " ('if', 184),\n",
              " ('any', 182),\n",
              " ('or', 181),\n",
              " ('so', 181),\n",
              " ('but', 160),\n",
              " ('themselves', 157),\n",
              " ('out', 157),\n",
              " ('no', 152),\n",
              " ('after', 152),\n",
              " ('same', 148),\n",
              " ('because', 147),\n",
              " ('more', 143),\n",
              " ('Caesar,', 143),\n",
              " ('number', 143),\n",
              " ('might', 143),\n",
              " ('what', 142),\n",
              " ('very', 140),\n",
              " ('other', 137),\n",
              " ('before', 137),\n",
              " ('them,', 136),\n",
              " ('sent', 134),\n",
              " ('He', 133),\n",
              " ('nor', 131),\n",
              " ('up', 131),\n",
              " ('camp', 130),\n",
              " ('there', 129),\n",
              " ('army', 129),\n",
              " ('upon', 124),\n",
              " ('time', 123),\n",
              " ('part', 121),\n",
              " ('among', 121),\n",
              " ('most', 119),\n",
              " ('When', 116),\n",
              " ('two', 115),\n",
              " ('own', 113),\n",
              " ('Roman', 113),\n",
              " ('made', 112),\n",
              " ('whom', 111),\n",
              " ('war', 111),\n",
              " ('cavalry', 110),\n",
              " ('every', 108),\n",
              " ('forces', 107),\n",
              " ('than', 107),\n",
              " ('such', 107),\n",
              " ('did', 107),\n",
              " ('himself', 106),\n",
              " ('some', 106),\n",
              " ('soldiers', 104),\n",
              " ('over', 104),\n",
              " ('legions', 103),\n",
              " ('camp,', 97),\n",
              " ('without', 96),\n",
              " ('men,', 95),\n",
              " ('enemy,', 95),\n",
              " ('things', 93),\n",
              " ('even', 93),\n",
              " ('him,', 93),\n",
              " ('place', 93),\n",
              " ('about', 91),\n",
              " ('state', 90),\n",
              " ('against', 90),\n",
              " ('brought', 90),\n",
              " ('day', 88),\n",
              " ('come', 88),\n",
              " ('both', 86),\n",
              " ('through', 86),\n",
              " ('that,', 81),\n",
              " ('whole', 79),\n",
              " ('many', 79),\n",
              " ('orders', 78),\n",
              " ('Gaul,', 78),\n",
              " ('and,', 75),\n",
              " ('began', 75),\n",
              " ('thought', 74),\n",
              " ('only', 74),\n",
              " ('territories', 73),\n",
              " ('But', 73),\n",
              " ('They', 71),\n",
              " ('either', 71),\n",
              " ('do', 70),\n",
              " ('embassadors', 70),\n",
              " ('each', 69),\n",
              " ('people', 69),\n",
              " ('three', 68),\n",
              " ('rest', 68),\n",
              " ('account', 68),\n",
              " ('town', 67),\n",
              " ('In', 67),\n",
              " ('large', 66),\n",
              " ('several', 66),\n",
              " ('Gaul', 65),\n",
              " ('under', 65),\n",
              " ('them.', 64),\n",
              " ('battle', 64),\n",
              " ('while', 64),\n",
              " ('since', 63),\n",
              " ('left', 63),\n",
              " ('first', 63),\n",
              " ('much', 62),\n",
              " ('attack', 62),\n",
              " ('we', 61),\n",
              " ('Gauls', 61),\n",
              " ('ordered', 61),\n",
              " ('back', 61),\n",
              " ('ought', 60),\n",
              " ('river', 60),\n",
              " ('order', 60),\n",
              " ('Having', 60),\n",
              " ('Aedui', 58),\n",
              " ('make', 57),\n",
              " ('neither', 57),\n",
              " ('Germans', 57),\n",
              " ('almost', 57),\n",
              " ('country', 56),\n",
              " ('whose', 55),\n",
              " ('ships', 55),\n",
              " ('side', 55),\n",
              " ('few', 55),\n",
              " ('off', 55),\n",
              " ('purpose', 55),\n",
              " ('legion', 54),\n",
              " ('war,', 54),\n",
              " ('came', 53),\n",
              " ('states', 53),\n",
              " ('far', 52),\n",
              " ('sends', 52),\n",
              " ('horse', 52),\n",
              " ('then', 52),\n",
              " ('yet', 51),\n",
              " ('Romans', 51),\n",
              " ('lest', 50),\n",
              " ('corn', 50),\n",
              " ('time,', 50),\n",
              " ('camp.', 50),\n",
              " ('cavalry,', 49),\n",
              " ('This', 49),\n",
              " ('taken', 49),\n",
              " ('set', 48),\n",
              " ('.', 48),\n",
              " ('day,', 48),\n",
              " ('toward', 47),\n",
              " ('give', 47),\n",
              " ('its', 47),\n",
              " ('march', 47),\n",
              " ('little', 47),\n",
              " ('people,', 46),\n",
              " ('Aedui,', 46),\n",
              " ('cut', 46),\n",
              " ('though', 46),\n",
              " ('also', 46),\n",
              " ('-', 46),\n",
              " ('For', 46),\n",
              " ('led', 45),\n",
              " ('miles', 45),\n",
              " ('said', 44),\n",
              " ('send', 44),\n",
              " ('place,', 44),\n",
              " ('has', 44),\n",
              " ('winter', 44),\n",
              " ('easily', 43),\n",
              " ('take', 43),\n",
              " ('mean', 43),\n",
              " ('general', 43),\n",
              " ('Gauls,', 42),\n",
              " ('days', 42),\n",
              " ('together', 42),\n",
              " ('saw', 42),\n",
              " ('arms', 42),\n",
              " ('means', 41),\n",
              " ('These', 41),\n",
              " ('horse,', 41),\n",
              " ('After', 41),\n",
              " (\"Caesar's\", 41),\n",
              " ('received', 41),\n",
              " ('hostages', 40),\n",
              " ('now', 40),\n",
              " ('soldiers,', 40),\n",
              " ('legions,', 40),\n",
              " ('down', 39),\n",
              " ('following', 39),\n",
              " ('put', 39),\n",
              " ('greatest', 39),\n",
              " ('parts', 39),\n",
              " ('go', 38),\n",
              " ('command', 38),\n",
              " ('And', 38),\n",
              " ('given', 38),\n",
              " ('That', 37),\n",
              " ('held', 37),\n",
              " ('small', 37),\n",
              " ('him.', 37),\n",
              " ('pass', 36),\n",
              " ('between', 36),\n",
              " ('There', 36),\n",
              " ('arrived', 36),\n",
              " ('battle,', 36),\n",
              " ('man', 36),\n",
              " ('army,', 35),\n",
              " ('arrival', 35),\n",
              " ('kept', 35),\n",
              " ('Caius', 35),\n",
              " ('placed', 35),\n",
              " ('town,', 35),\n",
              " ('called', 35),\n",
              " ('less', 35),\n",
              " ('hope', 35),\n",
              " ('informed', 35),\n",
              " ('greater', 35),\n",
              " ('may', 34),\n",
              " ('states,', 34),\n",
              " ('drawn', 34),\n",
              " ('whatever', 34),\n",
              " ('cohorts', 34),\n",
              " ('determined', 33),\n",
              " ('arms,', 33),\n",
              " ('guard', 33),\n",
              " ('distance', 33),\n",
              " ('thing', 33),\n",
              " ('drew', 33),\n",
              " ('done', 33),\n",
              " ('military', 33),\n",
              " ('troops', 33),\n",
              " ('influence', 32),\n",
              " ('perceived', 32),\n",
              " ('Ariovistus', 32),\n",
              " ('suddenly', 32),\n",
              " ('state,', 32),\n",
              " ('them;', 32),\n",
              " ('who,', 32),\n",
              " ('discovered', 32),\n",
              " ('I', 32),\n",
              " ('Germans,', 31),\n",
              " ('third', 31),\n",
              " ('thousand', 31),\n",
              " ('[the', 31),\n",
              " ('opportunity', 31),\n",
              " ('able', 31),\n",
              " ('it,', 31),\n",
              " ('Rhine,', 31),\n",
              " ('reason', 31),\n",
              " ('nature', 31),\n",
              " ('within', 31),\n",
              " ('marched', 31),\n",
              " ('next', 31),\n",
              " ('going', 31),\n",
              " ('surrounded', 31),\n",
              " ('four', 30),\n",
              " ('At', 30),\n",
              " ('quickly', 30),\n",
              " ('nearest', 30),\n",
              " ('forward', 30),\n",
              " ('himself,', 30),\n",
              " ('baggage', 30),\n",
              " ('another', 30),\n",
              " ('advance', 30),\n",
              " ('soon', 30),\n",
              " ('him;', 29),\n",
              " ('danger', 29),\n",
              " ('during', 29),\n",
              " (\"enemy's\", 29),\n",
              " ('Labienus', 29),\n",
              " ('forth', 29),\n",
              " ('To', 29),\n",
              " ('On', 29),\n",
              " ('return', 29),\n",
              " ('Romans,', 29),\n",
              " ('how', 29),\n",
              " ('advanced', 29),\n",
              " ('feet', 29),\n",
              " ('carried', 28),\n",
              " ('however,', 28),\n",
              " ('away', 28),\n",
              " ('night', 28),\n",
              " ('different', 28),\n",
              " ('Helvetii,', 28),\n",
              " ('[to', 28),\n",
              " ('returned', 28),\n",
              " ('safety', 28),\n",
              " ('bring', 27),\n",
              " ('long', 27),\n",
              " ('enemy.', 27),\n",
              " ('making', 27),\n",
              " ('river,', 27),\n",
              " ('powerful', 27),\n",
              " ('according', 27),\n",
              " ('body', 27),\n",
              " ('death', 27),\n",
              " ('Helvetii', 26),\n",
              " ('chief', 26),\n",
              " ('reported', 26),\n",
              " ('flight', 26),\n",
              " ('design', 26),\n",
              " ('position', 26),\n",
              " ('considered', 26),\n",
              " ('this,', 26),\n",
              " ('cast', 26),\n",
              " ('seemed', 26),\n",
              " ('While', 26),\n",
              " ('[of', 26),\n",
              " ('although', 25),\n",
              " ('possession', 25),\n",
              " ('where', 25),\n",
              " ('higher', 25),\n",
              " ('line', 25),\n",
              " ('others', 25),\n",
              " ('force', 25),\n",
              " ('learned', 25),\n",
              " ('former', 25),\n",
              " ('will', 25),\n",
              " ('too', 25),\n",
              " ('A', 25),\n",
              " ('fought', 25),\n",
              " ('beyond', 24),\n",
              " ('Labienus,', 24),\n",
              " ('seen', 24),\n",
              " ('ground,', 24),\n",
              " ('hostages,', 24),\n",
              " ('fear', 24),\n",
              " ('year', 24),\n",
              " ('there,', 24),\n",
              " ('heard', 24),\n",
              " ('raised', 24),\n",
              " ('along', 24),\n",
              " ('flight,', 24),\n",
              " ('manner', 24),\n",
              " ('aid', 24),\n",
              " ('legion,', 24),\n",
              " ('you', 24),\n",
              " ('Gaul.', 23),\n",
              " ('quarters', 23),\n",
              " ('think', 23),\n",
              " ('cross', 23),\n",
              " ('distant', 23),\n",
              " ('things,', 23),\n",
              " ('ground', 23),\n",
              " ('engaged', 23),\n",
              " ('rampart', 23),\n",
              " ('ships,', 23),\n",
              " ('entire', 23),\n",
              " ('appointed', 23),\n",
              " ('which,', 23),\n",
              " ('wished', 23),\n",
              " ('sudden', 23),\n",
              " ('collected', 23),\n",
              " ('driven', 23),\n",
              " ('night,', 23),\n",
              " ('portion', 23),\n",
              " ('corn,', 22),\n",
              " ('use', 22),\n",
              " ('accustomed', 22),\n",
              " ('matter', 22),\n",
              " ('person', 22),\n",
              " ('must', 22),\n",
              " ('fight', 22),\n",
              " ('weapons', 22),\n",
              " ('rest,', 22),\n",
              " ('Vercingetorix', 22),\n",
              " ('these,', 22),\n",
              " ('daily', 22),\n",
              " ('neighboring', 22),\n",
              " ('can', 22),\n",
              " ('sight', 22),\n",
              " ('circumstance', 22),\n",
              " ('foot', 22),\n",
              " ('wall', 22),\n",
              " ('auxiliaries', 22),\n",
              " ('\"that', 21),\n",
              " ('opinion', 21),\n",
              " ('already', 21),\n",
              " ('conveyed', 21),\n",
              " ('close', 21),\n",
              " ('war.', 21),\n",
              " ('prevented', 21),\n",
              " ('necessary', 21),\n",
              " ('except', 21),\n",
              " ('slain,', 21),\n",
              " ('well', 21),\n",
              " ('nothing', 21),\n",
              " ('valor', 21),\n",
              " ('gone', 21),\n",
              " ('hold', 21),\n",
              " ('open', 20),\n",
              " ('slain', 20),\n",
              " ('power', 20),\n",
              " ('latter', 20),\n",
              " ('common', 20),\n",
              " ('respecting', 20),\n",
              " ('Q.', 20),\n",
              " ('short', 20),\n",
              " ('fortifications', 20),\n",
              " ('certain', 20),\n",
              " ('loss', 20),\n",
              " ('soldiers.', 20),\n",
              " ('senate', 20),\n",
              " ('resolved', 20),\n",
              " ('provided', 20),\n",
              " ('As', 20),\n",
              " ('lieutenant,', 20),\n",
              " ('laid', 20),\n",
              " ('follow', 20),\n",
              " ('Rhine', 20),\n",
              " ('generally', 20),\n",
              " ('Our', 20),\n",
              " ('country,', 19),\n",
              " ('It', 19),\n",
              " ('forced', 19),\n",
              " ('thus', 19),\n",
              " ('regard', 19),\n",
              " ('further', 19),\n",
              " ('never', 19),\n",
              " ('like', 19),\n",
              " ('shout', 19),\n",
              " ('Ambiorix', 19),\n",
              " ('hundred', 19),\n",
              " ('marches', 19),\n",
              " ('assembled', 19),\n",
              " ('lay', 19),\n",
              " ('six', 19),\n",
              " ('consequence', 19),\n",
              " ('hill', 19),\n",
              " ('fortified', 19),\n",
              " ('observed', 19),\n",
              " ('woods', 19),\n",
              " ('woods,', 19),\n",
              " ('quarters,', 19),\n",
              " ('Belgae', 18),\n",
              " ('formed', 18),\n",
              " ('length', 18),\n",
              " ('took', 18),\n",
              " ('right', 18),\n",
              " ('bridge', 18),\n",
              " ('strength', 18),\n",
              " ('defend', 18),\n",
              " ('days,', 18),\n",
              " ('messengers', 18),\n",
              " ('gave', 18),\n",
              " ('nations', 18),\n",
              " ('alarmed', 18),\n",
              " ('last', 18),\n",
              " ('young', 18),\n",
              " ('Remi,', 18),\n",
              " ('consider', 18),\n",
              " ('Sequani', 18),\n",
              " ('compelled', 18),\n",
              " ('five', 18),\n",
              " ('opposite', 18),\n",
              " ('army.', 18),\n",
              " ('highest', 18),\n",
              " ('manner,', 18),\n",
              " ('up,', 18),\n",
              " ('thrown', 18),\n",
              " ('fled', 18),\n",
              " ('appeared', 18),\n",
              " ('courage', 18),\n",
              " ('keep', 18),\n",
              " ('assemble', 18),\n",
              " ('lower', 17),\n",
              " ('near', 17),\n",
              " ('high', 17),\n",
              " ('ten', 17),\n",
              " ('assistance', 17),\n",
              " ('happened', 17),\n",
              " ('longer', 17),\n",
              " ('prevent', 17),\n",
              " ('matters', 17),\n",
              " ('[and]', 17),\n",
              " ('battle.', 17),\n",
              " ('rather', 17),\n",
              " ('bear', 17),\n",
              " ('equal', 17),\n",
              " ('appear', 17),\n",
              " ('engage', 17),\n",
              " ('retreat', 17),\n",
              " ('number,', 17),\n",
              " ('gates', 17),\n",
              " ('leave', 17),\n",
              " ('All', 17),\n",
              " ('parts,', 17),\n",
              " ('places', 17),\n",
              " ('baggage,', 17),\n",
              " ('whether', 17),\n",
              " ('persons', 17),\n",
              " ('council', 17),\n",
              " ('themselves,', 17),\n",
              " ('receive', 17),\n",
              " ('want', 17),\n",
              " ('fortune', 17),\n",
              " ('affair', 17),\n",
              " ('march,', 17),\n",
              " ('stationed', 17),\n",
              " ('receiving', 17),\n",
              " ('victory', 17),\n",
              " ('immediately', 17),\n",
              " ('infantry', 17),\n",
              " ('measures', 17),\n",
              " ('sending', 17),\n",
              " ('valor,', 16),\n",
              " ('peace', 16),\n",
              " ('custom,', 16),\n",
              " ('fire', 16),\n",
              " ('twelve', 16),\n",
              " ('carry', 16),\n",
              " ('towns', 16),\n",
              " ('works,', 16),\n",
              " ('again', 16),\n",
              " ('direction', 16),\n",
              " ('suffer', 16),\n",
              " ('name', 16),\n",
              " ('Then', 16),\n",
              " ('but,', 16),\n",
              " ('before,', 16),\n",
              " ('safety,', 16),\n",
              " ('it.', 16),\n",
              " ('L.', 16),\n",
              " ('Sabinus', 16),\n",
              " ('position,', 16),\n",
              " ('pursue', 16),\n",
              " ('territories,', 16),\n",
              " ('other,', 16),\n",
              " ('leads', 16),\n",
              " ('signal', 16),\n",
              " ('found', 16),\n",
              " ('rear', 16),\n",
              " ('therefore', 16),\n",
              " ('By', 16),\n",
              " ('speedily', 16),\n",
              " ('man,', 16),\n",
              " ('province', 16),\n",
              " ('hill,', 16),\n",
              " ('front', 16),\n",
              " ('all,', 16),\n",
              " ('men.', 16),\n",
              " ('delivered', 16),\n",
              " ('Treviri,', 16),\n",
              " ('considerable', 16),\n",
              " ('shall', 16),\n",
              " ('remain', 16),\n",
              " ('Nervii,', 16),\n",
              " ('danger,', 16),\n",
              " ('action,', 16),\n",
              " ('owing', 16),\n",
              " ('Vercingetorix,', 16),\n",
              " ('Province', 15),\n",
              " ('they,', 15),\n",
              " ('private', 15),\n",
              " ('ready', 15),\n",
              " ('crossed', 15),\n",
              " ('work', 15),\n",
              " ('around', 15),\n",
              " ('public', 15),\n",
              " ('(for', 15),\n",
              " ('Gallic', 15),\n",
              " ('above', 15),\n",
              " ('till', 15),\n",
              " ('known', 15),\n",
              " ('\"That', 15),\n",
              " ('continued', 15),\n",
              " ('approach', 15),\n",
              " ('Carnutes,', 15),\n",
              " ('revolt', 15),\n",
              " ('cattle', 15),\n",
              " ('divided', 15),\n",
              " ('war;', 15),\n",
              " ('Marcus', 15),\n",
              " ('friendship', 15),\n",
              " ('possessed', 15),\n",
              " ('likewise', 15),\n",
              " ('government', 15),\n",
              " ('seized', 15),\n",
              " ('scarcely', 15),\n",
              " ('mountain', 15),\n",
              " ('Lucius', 15),\n",
              " ('across', 15),\n",
              " ('concealed', 15),\n",
              " ('arrival,', 15),\n",
              " ('desire', 15),\n",
              " ('pursued', 15),\n",
              " ('hand,', 15),\n",
              " ('summoned', 15),\n",
              " ('severe', 15),\n",
              " ('encamped', 15),\n",
              " ('affairs', 15),\n",
              " ('Caesar.', 15),\n",
              " ('town.', 15),\n",
              " ('centurions', 15),\n",
              " ('C.', 15),\n",
              " ('hands', 15),\n",
              " ('escaped', 15),\n",
              " ('sides,', 15),\n",
              " ('leaving', 15),\n",
              " ('taking', 15),\n",
              " ('intelligence', 15),\n",
              " ('side,', 15),\n",
              " ('barbarians', 15),\n",
              " ('possible', 14),\n",
              " ('watch,', 14),\n",
              " ('difficulty', 14),\n",
              " ('way', 14),\n",
              " ('Therefore,', 14),\n",
              " ('he,', 14),\n",
              " ('end', 14),\n",
              " ('afterward', 14),\n",
              " ('Crassus,', 14),\n",
              " ('got', 14),\n",
              " ('hastened', 14),\n",
              " ('support', 14),\n",
              " ('especially', 14),\n",
              " ('draw', 14),\n",
              " ('tribunes', 14),\n",
              " ('scattered', 14),\n",
              " ('honor', 14),\n",
              " ('tenth', 14),\n",
              " ('flight.', 14),\n",
              " ('above,', 14),\n",
              " ('encouraged', 14),\n",
              " ('throw', 14),\n",
              " ('action', 14),\n",
              " ('surrender', 14),\n",
              " ('sally', 14),\n",
              " ('He,', 14),\n",
              " ('departure', 14),\n",
              " ('Sequani,', 14),\n",
              " ('was,', 14),\n",
              " ('inasmuch', 14),\n",
              " ('height', 14),\n",
              " ('utmost', 14),\n",
              " ('council,', 14),\n",
              " ('engagement', 14),\n",
              " ('remained', 14),\n",
              " ('conduct', 14),\n",
              " ('lead', 14),\n",
              " ('rendered', 14),\n",
              " ('reduced', 14),\n",
              " ('report', 14),\n",
              " ('sides', 14),\n",
              " ('went', 14),\n",
              " ('built', 14),\n",
              " ('labor', 14),\n",
              " ('raise', 14),\n",
              " ('provide', 13),\n",
              " ('attempt', 13),\n",
              " ('Gaul;', 13),\n",
              " ('marching', 13),\n",
              " ('seventh', 13),\n",
              " ('disadvantageous', 13),\n",
              " ('learning', 13),\n",
              " ('stood', 13),\n",
              " ('eight', 13),\n",
              " ('kind', 13),\n",
              " ('space', 13),\n",
              " ('multitude', 13),\n",
              " ('sustained', 13),\n",
              " ('senate,', 13),\n",
              " ('commands', 13),\n",
              " ('new', 13),\n",
              " ('Upon', 13),\n",
              " ('stand', 13),\n",
              " ('selected', 13),\n",
              " ('troops,', 13),\n",
              " ('wounded', 13),\n",
              " ('protection', 13),\n",
              " ('fighting', 13),\n",
              " ('proceed', 13),\n",
              " ('horses', 13),\n",
              " ('sufficient', 13),\n",
              " ('sovereignty', 13),\n",
              " ('gives', 13),\n",
              " ('custom', 13),\n",
              " ('violence', 13),\n",
              " ('does', 13),\n",
              " ('present', 13),\n",
              " ('unable', 13),\n",
              " ('hand', 13),\n",
              " ('life', 13),\n",
              " ('plans', 13),\n",
              " ('enemy;', 13),\n",
              " ('it;', 13),\n",
              " ('horse.', 13),\n",
              " ('provisions,', 13),\n",
              " ('sustain', 13),\n",
              " ('see', 13),\n",
              " ('surrendered', 13),\n",
              " ('previously', 13),\n",
              " ('frequent', 13),\n",
              " ('fell', 13),\n",
              " ('despairing', 13),\n",
              " ('favorable', 13),\n",
              " ('usually', 13),\n",
              " ('guards', 13),\n",
              " ('lieutenants,', 13),\n",
              " ('information', 13),\n",
              " ('works', 13),\n",
              " ('Treviri', 13),\n",
              " ('Crassus', 13),\n",
              " ('knew', 13),\n",
              " ('Of', 12),\n",
              " ('[as', 12),\n",
              " ('authority', 12),\n",
              " ('obtain', 12),\n",
              " ('on,', 12),\n",
              " ('others,', 12),\n",
              " ('Titus', 12),\n",
              " ('fourth', 12),\n",
              " ('remaining', 12),\n",
              " ('ancient', 12),\n",
              " ('let', 12),\n",
              " ('attempted', 12),\n",
              " ('promised', 12),\n",
              " ('speech', 12),\n",
              " ('Bituriges', 12),\n",
              " ('used', 12),\n",
              " ('scouts,', 12),\n",
              " ('together,', 12),\n",
              " ('threw', 12),\n",
              " ('lost', 12),\n",
              " ('none', 12),\n",
              " ('proceeded', 12),\n",
              " ('armed', 12),\n",
              " ('good', 12),\n",
              " ('people.', 12),\n",
              " ('Fabius', 12),\n",
              " ('one,', 12),\n",
              " ('place.', 12),\n",
              " ('turned', 12),\n",
              " ('Bellovaci', 12),\n",
              " ('speed', 12),\n",
              " ('convey', 12),\n",
              " ('places,', 12),\n",
              " ('fill', 12),\n",
              " ('Britain,', 12),\n",
              " ('form', 12),\n",
              " ('reached', 12),\n",
              " ('retreated', 12),\n",
              " ('second', 12),\n",
              " ('chosen', 12),\n",
              " ('burned', 12),\n",
              " ('attempting', 12),\n",
              " ('Hither', 12),\n",
              " ('waste', 12),\n",
              " ('river.', 12),\n",
              " ('said,', 12),\n",
              " ('favor', 12),\n",
              " ('distance,', 12),\n",
              " ('supply', 12),\n",
              " ('encouraging', 12),\n",
              " ('vigorously', 12),\n",
              " ('old', 12),\n",
              " ('concerning', 12),\n",
              " ('Ariovistus,', 12),\n",
              " ('banks', 12),\n",
              " ('garrison', 12),\n",
              " ('practice', 12),\n",
              " ('command,', 12),\n",
              " ('Italy,', 12),\n",
              " ('scouts', 12),\n",
              " ('issue', 12),\n",
              " ('view', 12),\n",
              " ('winter-quarters,', 12),\n",
              " ('fortifications,', 12),\n",
              " ('fixed', 12),\n",
              " ('quarter,', 12),\n",
              " ('Fabius,', 12),\n",
              " ('circumstances', 11),\n",
              " ('extent', 11),\n",
              " ('villages', 11),\n",
              " ('therefore,', 11),\n",
              " ('remote', 11),\n",
              " ('joined', 11),\n",
              " ('us', 11),\n",
              " ('fifteen', 11),\n",
              " ('plan', 11),\n",
              " ('covered', 11),\n",
              " ('just', 11),\n",
              " ('P.', 11),\n",
              " ('commanded', 11),\n",
              " ('arms;', 11),\n",
              " ('king', 11),\n",
              " ('minds', 11),\n",
              " ('dare', 11),\n",
              " ('arose', 11),\n",
              " ('demands', 11),\n",
              " ('passed', 11),\n",
              " ('endure', 11),\n",
              " ('free', 11),\n",
              " ('rushed', 11),\n",
              " ('prisoners,', 11),\n",
              " ('forming', 11),\n",
              " ('slew', 11),\n",
              " ('fire,', 11),\n",
              " ('Suevi,', 11),\n",
              " ('united', 11),\n",
              " ('Titurius', 11),\n",
              " ('storm', 11),\n",
              " ('drove', 11),\n",
              " ('fearing', 11),\n",
              " ('Thus', 11),\n",
              " ('killed', 11),\n",
              " ('leaders', 11),\n",
              " ('safe', 11),\n",
              " ('countrymen,', 11),\n",
              " ('contrary', 11),\n",
              " ('sea', 11),\n",
              " ('service', 11),\n",
              " ('always', 11),\n",
              " ('matters,', 11),\n",
              " ('beginning', 11),\n",
              " ('distinguished', 11),\n",
              " ('considering', 11),\n",
              " ('towns,', 11),\n",
              " ('provisions', 11),\n",
              " ('hastens', 11),\n",
              " ('broken', 11),\n",
              " ('Dumnorix', 11),\n",
              " ('winter-quarters', 11),\n",
              " ('possessions', 11),\n",
              " ('children', 11),\n",
              " ('behind', 11),\n",
              " ('attacked', 11),\n",
              " ('aware', 11),\n",
              " ('victory,', 11),\n",
              " ('wish', 11),\n",
              " ('(which', 11),\n",
              " ('giving', 11),\n",
              " ('influence,', 11),\n",
              " ('off,', 11),\n",
              " ('met', 11),\n",
              " ('vast', 11),\n",
              " ('seek', 11),\n",
              " ('lands', 11),\n",
              " ('cavalry.', 11),\n",
              " ('principal', 11),\n",
              " ('protect', 11),\n",
              " ('break', 11),\n",
              " ('Belgae,', 11),\n",
              " ('extensive', 11),\n",
              " ('Bellovaci,', 11),\n",
              " ('because,', 11),\n",
              " ('hard', 11),\n",
              " ('occupied', 11),\n",
              " ('collect', 11),\n",
              " ('care', 11),\n",
              " ('necessarily', 11),\n",
              " ('forces,', 11),\n",
              " ('your', 11),\n",
              " ('1', 10),\n",
              " ('execute', 10),\n",
              " ('son', 10),\n",
              " ('wanting', 10),\n",
              " ('namely,', 10),\n",
              " ('prepared', 10),\n",
              " ('home', 10),\n",
              " ('proceeds', 10),\n",
              " ('until', 10),\n",
              " ('induced', 10),\n",
              " ('single', 10),\n",
              " ('head', 10),\n",
              " ('place;', 10),\n",
              " ('measure', 10),\n",
              " ('urged', 10),\n",
              " ('effect', 10),\n",
              " ('become', 10),\n",
              " ('full', 10),\n",
              " ('usual', 10),\n",
              " ('charge', 10),\n",
              " ('out,', 10),\n",
              " ('rampart,', 10),\n",
              " ('chiefs', 10),\n",
              " ('assembly', 10),\n",
              " ('depart', 10),\n",
              " ('part,', 10),\n",
              " ('entered', 10),\n",
              " ('round', 10),\n",
              " ('leading', 10),\n",
              " ('knowledge', 10),\n",
              " ('pitched', 10),\n",
              " ('Eburones,', 10),\n",
              " ('performed', 10),\n",
              " ('attacking', 10),\n",
              " ('lieutenants', 10),\n",
              " ('quarter', 10),\n",
              " ('drawing', 10),\n",
              " ('fastened', 10),\n",
              " ('Cicero,', 10),\n",
              " ('moreover,', 10),\n",
              " ('routed', 10),\n",
              " ('wall,', 10),\n",
              " ('consent', 10),\n",
              " ('request', 10),\n",
              " ('If', 10),\n",
              " ('difficult', 10),\n",
              " ('for,', 10),\n",
              " ('besides', 10),\n",
              " ('withstand', 10),\n",
              " ('sought', 10),\n",
              " ('supposed', 10),\n",
              " ('land', 10),\n",
              " ('desired', 10),\n",
              " ('[he', 10),\n",
              " ('[and', 10),\n",
              " ('could,', 10),\n",
              " ('continue', 10),\n",
              " ('Suevi', 10),\n",
              " ('throughout', 10),\n",
              " ('often', 10),\n",
              " ('mound', 10),\n",
              " ('frontiers', 10),\n",
              " ('approaching', 10),\n",
              " ('learn', 10),\n",
              " ('relief', 10),\n",
              " ('season', 10),\n",
              " ('natural', 10),\n",
              " ('Remi', 10),\n",
              " ('trench', 10),\n",
              " ('design,', 10),\n",
              " ('advice', 10),\n",
              " ('mentioned', 10),\n",
              " ('coming', 10),\n",
              " ('fresh', 10),\n",
              " ('fortifications.', 10),\n",
              " ('enough', 10),\n",
              " ('houses,', 10),\n",
              " ('still', 10),\n",
              " ('Accordingly,', 10),\n",
              " ('Britain', 10),\n",
              " ('supreme', 10),\n",
              " ('Cicero', 10),\n",
              " ('Caninius', 10),\n",
              " ('Comius,', 10),\n",
              " ('[saying]', 9),\n",
              " ('years', 9),\n",
              " ('journey', 9),\n",
              " ('Divitiacus,', 9),\n",
              " ('4', 9),\n",
              " ('necessity', 9),\n",
              " ('Allobroges,', 9),\n",
              " ('allow', 9),\n",
              " ('say', 9),\n",
              " ('8', 9),\n",
              " ('feet,', 9),\n",
              " ('fortification', 9),\n",
              " ('12', 9),\n",
              " ('twenty', 9),\n",
              " ('willing', 9),\n",
              " ('situated', 9),\n",
              " ('unwilling', 9),\n",
              " ('soldiers;', 9),\n",
              " ('points', 9),\n",
              " ('know', 9)]"
            ]
          },
          "metadata": {},
          "execution_count": 20
        }
      ],
      "source": [
        "text_words_persisted.take(1000)"
      ]
    },
    {
      "cell_type": "code",
      "execution_count": null,
      "metadata": {
        "colab": {
          "base_uri": "https://localhost:8080/"
        },
        "id": "Xyi906ADQrJA",
        "outputId": "52ca0e3b-f820-410e-9b02-4b397b2853fd"
      },
      "outputs": [
        {
          "output_type": "stream",
          "name": "stdout",
          "text": [
            "--2023-07-07 12:45:17--  https://raw.githubusercontent.com/deanwampler/spark-scala-tutorial/master/data/stop-words.txt\n",
            "Resolving raw.githubusercontent.com (raw.githubusercontent.com)... 185.199.110.133, 185.199.108.133, 185.199.109.133, ...\n",
            "Connecting to raw.githubusercontent.com (raw.githubusercontent.com)|185.199.110.133|:443... connected.\n",
            "HTTP request sent, awaiting response... 200 OK\n",
            "Length: 3525 (3.4K) [text/plain]\n",
            "Saving to: ‘stop-words.txt’\n",
            "\n",
            "\rstop-words.txt        0%[                    ]       0  --.-KB/s               \rstop-words.txt      100%[===================>]   3.44K  --.-KB/s    in 0s      \n",
            "\n",
            "2023-07-07 12:45:17 (44.5 MB/s) - ‘stop-words.txt’ saved [3525/3525]\n",
            "\n"
          ]
        }
      ],
      "source": [
        "# Ex6: Filter stop words\n",
        "!wget https://raw.githubusercontent.com/deanwampler/spark-scala-tutorial/master/data/stop-words.txt"
      ]
    },
    {
      "cell_type": "code",
      "execution_count": null,
      "metadata": {
        "colab": {
          "base_uri": "https://localhost:8080/"
        },
        "id": "qIaBo7BcV5zR",
        "outputId": "0cda99d5-d7e7-4a9f-9339-c78ff7341936"
      },
      "outputs": [
        {
          "output_type": "execute_result",
          "data": {
            "text/plain": [
              "[('the', 6956),\n",
              " ('of', 3192),\n",
              " ('and', 3079),\n",
              " ('to', 2771),\n",
              " ('that', 1485),\n",
              " ('in', 1412),\n",
              " ('he', 1345),\n",
              " ('a', 1273),\n",
              " ('they', 1137),\n",
              " ('their', 1105)]"
            ]
          },
          "metadata": {},
          "execution_count": 21
        }
      ],
      "source": [
        "text_words_persisted.take(10)"
      ]
    },
    {
      "cell_type": "code",
      "execution_count": null,
      "metadata": {
        "id": "pt1926cCW6ig"
      },
      "outputs": [],
      "source": [
        "stop_words = sc.textFile(\"/content/stop-words.txt\")\n",
        "stop_words_list = stop_words.collect()"
      ]
    },
    {
      "cell_type": "code",
      "execution_count": null,
      "metadata": {
        "collapsed": true,
        "id": "YZZcv7I0Xwvn"
      },
      "outputs": [],
      "source": [
        "stop_words_list.append(\"a\")"
      ]
    },
    {
      "cell_type": "code",
      "execution_count": null,
      "metadata": {
        "id": "CjYQSht2XV8V"
      },
      "outputs": [],
      "source": [
        "text_words_filtered = text_words_persisted.filter(lambda x: x[0] not in stop_words_list)"
      ]
    },
    {
      "cell_type": "code",
      "execution_count": null,
      "metadata": {
        "colab": {
          "base_uri": "https://localhost:8080/"
        },
        "collapsed": true,
        "id": "Q7Gt3N0VX0Xo",
        "outputId": "87350643-f9b7-476a-858c-e849dddd39ff"
      },
      "outputs": [
        {
          "output_type": "execute_result",
          "data": {
            "text/plain": [
              "[('Chapter', 402),\n",
              " ('great', 290),\n",
              " ('Caesar', 250),\n",
              " ('The', 220),\n",
              " ('men', 188),\n",
              " ('enemy', 186),\n",
              " ('Caesar,', 143),\n",
              " ('number', 143),\n",
              " ('them,', 136),\n",
              " ('He', 133)]"
            ]
          },
          "metadata": {},
          "execution_count": 25
        }
      ],
      "source": [
        "text_words_filtered.take(10)"
      ]
    },
    {
      "cell_type": "code",
      "execution_count": null,
      "metadata": {
        "id": "zfkE7qDDENL7"
      },
      "outputs": [],
      "source": [
        "# Stopping Spark-Session and Spark context\n",
        "sc.stop()\n",
        "spark.stop()"
      ]
    },
    {
      "cell_type": "code",
      "execution_count": null,
      "metadata": {
        "id": "0hV1qp83Z12Q"
      },
      "outputs": [],
      "source": [
        "df = spark.read.json(\"/content/sample_data/anscombe.json\")"
      ]
    },
    {
      "cell_type": "code",
      "execution_count": null,
      "metadata": {
        "colab": {
          "base_uri": "https://localhost:8080/"
        },
        "id": "Fca4TYYmaXKY",
        "outputId": "3a6bd789-610b-4068-d9e3-720fd201b52b"
      },
      "outputs": [
        {
          "name": "stdout",
          "output_type": "stream",
          "text": [
            "+------+----+-----+---------------+\n",
            "|Series|   X|    Y|_corrupt_record|\n",
            "+------+----+-----+---------------+\n",
            "|     I|10.0| 8.04|           null|\n",
            "|     I| 8.0| 6.95|           null|\n",
            "|     I|13.0| 7.58|           null|\n",
            "|     I| 9.0| 8.81|           null|\n",
            "|     I|11.0| 8.33|           null|\n",
            "|     I|14.0| 9.96|           null|\n",
            "|     I| 6.0| 7.24|           null|\n",
            "|     I| 4.0| 4.26|           null|\n",
            "|     I|12.0|10.84|           null|\n",
            "|     I| 7.0| 4.81|           null|\n",
            "+------+----+-----+---------------+\n",
            "only showing top 10 rows\n",
            "\n"
          ]
        }
      ],
      "source": [
        "df.filter(df.Y>4).show(10)"
      ]
    },
    {
      "cell_type": "code",
      "execution_count": null,
      "metadata": {
        "colab": {
          "base_uri": "https://localhost:8080/"
        },
        "id": "eZr-Qys9aeoN",
        "outputId": "fd1f94a2-03bc-40f7-e58e-2052027e631b"
      },
      "outputs": [
        {
          "name": "stdout",
          "output_type": "stream",
          "text": [
            "+------+----+-----+---------------+\n",
            "|Series|   X|    Y|_corrupt_record|\n",
            "+------+----+-----+---------------+\n",
            "|     I|10.0| 8.04|           null|\n",
            "|     I| 8.0| 6.95|           null|\n",
            "|     I|13.0| 7.58|           null|\n",
            "|     I| 9.0| 8.81|           null|\n",
            "|     I|11.0| 8.33|           null|\n",
            "|     I|14.0| 9.96|           null|\n",
            "|     I| 6.0| 7.24|           null|\n",
            "|     I| 4.0| 4.26|           null|\n",
            "|     I|12.0|10.84|           null|\n",
            "|     I| 7.0| 4.81|           null|\n",
            "+------+----+-----+---------------+\n",
            "only showing top 10 rows\n",
            "\n"
          ]
        }
      ],
      "source": [
        "from pyspark.sql.functions import col\n",
        "df.where(\"Series is null\").show(10)"
      ]
    },
    {
      "cell_type": "code",
      "execution_count": null,
      "metadata": {
        "id": "sEG6D8E1bpk_"
      },
      "outputs": [],
      "source": [
        "df.createTempView(\"results\")"
      ]
    },
    {
      "cell_type": "code",
      "execution_count": null,
      "metadata": {
        "colab": {
          "base_uri": "https://localhost:8080/",
          "height": 323
        },
        "id": "vD4CLI4xdCJX",
        "outputId": "69c5594d-4465-4554-82b4-a2291c38c369"
      },
      "outputs": [
        {
          "ename": "AttributeError",
          "evalue": "ignored",
          "output_type": "error",
          "traceback": [
            "\u001b[0;31m---------------------------------------------------------------------------\u001b[0m",
            "\u001b[0;31mAttributeError\u001b[0m                            Traceback (most recent call last)",
            "\u001b[0;32m<ipython-input-114-6cb7d7b420d0>\u001b[0m in \u001b[0;36m<cell line: 3>\u001b[0;34m()\u001b[0m\n\u001b[1;32m      1\u001b[0m \u001b[0mquery\u001b[0m \u001b[0;34m=\u001b[0m \u001b[0;34m\"SELECT * FROM results\"\u001b[0m\u001b[0;34m\u001b[0m\u001b[0;34m\u001b[0m\u001b[0m\n\u001b[1;32m      2\u001b[0m \u001b[0mdf_res\u001b[0m \u001b[0;34m=\u001b[0m \u001b[0mspark\u001b[0m\u001b[0;34m.\u001b[0m\u001b[0msql\u001b[0m\u001b[0;34m(\u001b[0m\u001b[0mquery\u001b[0m\u001b[0;34m)\u001b[0m\u001b[0;34m\u001b[0m\u001b[0;34m\u001b[0m\u001b[0m\n\u001b[0;32m----> 3\u001b[0;31m \u001b[0mdf_res\u001b[0m\u001b[0;34m.\u001b[0m\u001b[0mflatMap\u001b[0m\u001b[0;34m(\u001b[0m\u001b[0;34m)\u001b[0m\u001b[0;34m\u001b[0m\u001b[0;34m\u001b[0m\u001b[0m\n\u001b[0m",
            "\u001b[0;32m/content/spark-3.2.4-bin-hadoop2.7/python/pyspark/sql/dataframe.py\u001b[0m in \u001b[0;36m__getattr__\u001b[0;34m(self, name)\u001b[0m\n\u001b[1;32m   1657\u001b[0m         \"\"\"\n\u001b[1;32m   1658\u001b[0m         \u001b[0;32mif\u001b[0m \u001b[0mname\u001b[0m \u001b[0;32mnot\u001b[0m \u001b[0;32min\u001b[0m \u001b[0mself\u001b[0m\u001b[0;34m.\u001b[0m\u001b[0mcolumns\u001b[0m\u001b[0;34m:\u001b[0m\u001b[0;34m\u001b[0m\u001b[0;34m\u001b[0m\u001b[0m\n\u001b[0;32m-> 1659\u001b[0;31m             raise AttributeError(\n\u001b[0m\u001b[1;32m   1660\u001b[0m                 \"'%s' object has no attribute '%s'\" % (self.__class__.__name__, name))\n\u001b[1;32m   1661\u001b[0m         \u001b[0mjc\u001b[0m \u001b[0;34m=\u001b[0m \u001b[0mself\u001b[0m\u001b[0;34m.\u001b[0m\u001b[0m_jdf\u001b[0m\u001b[0;34m.\u001b[0m\u001b[0mapply\u001b[0m\u001b[0;34m(\u001b[0m\u001b[0mname\u001b[0m\u001b[0;34m)\u001b[0m\u001b[0;34m\u001b[0m\u001b[0;34m\u001b[0m\u001b[0m\n",
            "\u001b[0;31mAttributeError\u001b[0m: 'DataFrame' object has no attribute 'flatMap'"
          ]
        }
      ],
      "source": []
    },
    {
      "cell_type": "code",
      "execution_count": null,
      "metadata": {
        "colab": {
          "base_uri": "https://localhost:8080/"
        },
        "id": "tvskf0-odN1A",
        "outputId": "e3aa17d7-b445-43c6-c8d0-69d94b43577d"
      },
      "outputs": [
        {
          "data": {
            "text/plain": [
              "DataFrame[Series: string, X: double, Y: double, _corrupt_record: string]"
            ]
          },
          "execution_count": 95,
          "metadata": {},
          "output_type": "execute_result"
        }
      ],
      "source": [
        "df_res.withColumn"
      ]
    },
    {
      "cell_type": "code",
      "execution_count": null,
      "metadata": {
        "id": "jf_e05sKuIP2"
      },
      "outputs": [],
      "source": [
        "gallic = spark.read.text(\"gallic.mb.txt\")"
      ]
    },
    {
      "cell_type": "code",
      "execution_count": null,
      "metadata": {
        "id": "2ID1XRm5uPZC"
      },
      "outputs": [],
      "source": [
        "from pyspark.sql.functions import split\n",
        "words = gallic.withColumn(\"words\", split(\"value\",\" \"))"
      ]
    },
    {
      "cell_type": "code",
      "execution_count": null,
      "metadata": {
        "colab": {
          "base_uri": "https://localhost:8080/"
        },
        "id": "seWnrID9wuWq",
        "outputId": "a81ad635-a6e5-480d-af41-762a38c92e28"
      },
      "outputs": [
        {
          "output_type": "stream",
          "name": "stdout",
          "text": [
            "+--------------------+--------------------+\n",
            "|               value|               words|\n",
            "+--------------------+--------------------+\n",
            "|                    |                  []|\n",
            "|              BOOK 1|           [BOOK, 1]|\n",
            "|                    |                  []|\n",
            "|           Chapter 1|        [Chapter, 1]|\n",
            "|                    |                  []|\n",
            "|All Gaul is divid...|[All, Gaul, is, d...|\n",
            "|the Aquitani anot...|[the, Aquitani, a...|\n",
            "|in our Gauls, the...|[in, our, Gauls,,...|\n",
            "|customs and laws....|[customs, and, la...|\n",
            "|the Marne and the...|[the, Marne, and,...|\n",
            "+--------------------+--------------------+\n",
            "only showing top 10 rows\n",
            "\n"
          ]
        }
      ],
      "source": [
        "words.show(10)"
      ]
    },
    {
      "cell_type": "code",
      "execution_count": null,
      "metadata": {
        "colab": {
          "base_uri": "https://localhost:8080/"
        },
        "id": "A0SQiVdqyRaH",
        "outputId": "b236995a-0ceb-4dab-d837-aa6c5b2ee654"
      },
      "outputs": [
        {
          "output_type": "stream",
          "name": "stdout",
          "text": [
            "+-------+\n",
            "|   word|\n",
            "+-------+\n",
            "|       |\n",
            "|   BOOK|\n",
            "|      1|\n",
            "|       |\n",
            "|Chapter|\n",
            "|      1|\n",
            "|       |\n",
            "|    All|\n",
            "|   Gaul|\n",
            "|     is|\n",
            "+-------+\n",
            "only showing top 10 rows\n",
            "\n"
          ]
        }
      ],
      "source": [
        "from pyspark.sql.functions import explode\n",
        "word_list = words.select(explode(\"words\").alias(\"word\"))\n",
        "word_list.show(10)"
      ]
    },
    {
      "cell_type": "code",
      "execution_count": null,
      "metadata": {
        "id": "VNAAWD29xuGK"
      },
      "outputs": [],
      "source": [
        "word_count = word_list.groupBy(\"word\").count()"
      ]
    },
    {
      "cell_type": "code",
      "source": [
        "word_count.show(10)"
      ],
      "metadata": {
        "colab": {
          "base_uri": "https://localhost:8080/"
        },
        "id": "A3C9yHZ2zUx7",
        "outputId": "f88a12ea-9d65-42ae-832d-3de17ddbfe90"
      },
      "execution_count": null,
      "outputs": [
        {
          "output_type": "stream",
          "name": "stdout",
          "text": [
            "+-----------+-----+\n",
            "|       word|count|\n",
            "+-----------+-----+\n",
            "|      those|  245|\n",
            "|       hope|   35|\n",
            "|        few|   55|\n",
            "|       some|  106|\n",
            "| lieutenant|    7|\n",
            "|    persist|    1|\n",
            "|         By|   16|\n",
            "|unequivocal|    1|\n",
            "|    implore|    2|\n",
            "|     youth,|    2|\n",
            "+-----------+-----+\n",
            "only showing top 10 rows\n",
            "\n"
          ]
        }
      ]
    },
    {
      "cell_type": "code",
      "source": [
        "word_count.orderBy(\"count\", ascending=False).show(10)"
      ],
      "metadata": {
        "colab": {
          "base_uri": "https://localhost:8080/"
        },
        "id": "ta8q3mR80IWi",
        "outputId": "52047b3e-2be4-45ca-ae59-33365697d9ef"
      },
      "execution_count": null,
      "outputs": [
        {
          "output_type": "stream",
          "name": "stdout",
          "text": [
            "+-----+-----+\n",
            "| word|count|\n",
            "+-----+-----+\n",
            "|  the| 6956|\n",
            "|   of| 3192|\n",
            "|  and| 3079|\n",
            "|   to| 2771|\n",
            "| that| 1485|\n",
            "|   in| 1412|\n",
            "|   he| 1345|\n",
            "|    a| 1273|\n",
            "| they| 1137|\n",
            "|their| 1105|\n",
            "+-----+-----+\n",
            "only showing top 10 rows\n",
            "\n"
          ]
        }
      ]
    },
    {
      "cell_type": "code",
      "source": [
        "stop_words = spark.read.text(\"stop-words.txt\")"
      ],
      "metadata": {
        "id": "KEdbNjZR00zh"
      },
      "execution_count": null,
      "outputs": []
    },
    {
      "cell_type": "code",
      "source": [
        "stop_words.show()"
      ],
      "metadata": {
        "colab": {
          "base_uri": "https://localhost:8080/"
        },
        "id": "ZCzwE1bK1e5E",
        "outputId": "9ae7d882-86ff-4a88-a8bb-9531df1c0e73"
      },
      "execution_count": null,
      "outputs": [
        {
          "output_type": "stream",
          "name": "stdout",
          "text": [
            "+-----------+\n",
            "|      value|\n",
            "+-----------+\n",
            "|       able|\n",
            "|      about|\n",
            "|      above|\n",
            "|  according|\n",
            "|accordingly|\n",
            "|     across|\n",
            "|   actually|\n",
            "|      after|\n",
            "| afterwards|\n",
            "|      again|\n",
            "|    against|\n",
            "|      ain't|\n",
            "|        all|\n",
            "|      allow|\n",
            "|     allows|\n",
            "|     almost|\n",
            "|      alone|\n",
            "|      along|\n",
            "|    already|\n",
            "|       also|\n",
            "+-----------+\n",
            "only showing top 20 rows\n",
            "\n"
          ]
        }
      ]
    },
    {
      "cell_type": "code",
      "source": [
        "from pyspark.sql.functions import broadcast\n",
        "df_filtered = word_count.join(broadcast(stop_words),word_count.word == stop_words.value,\"outer\")"
      ],
      "metadata": {
        "id": "IZglGNVJ1gvc"
      },
      "execution_count": 58,
      "outputs": []
    },
    {
      "cell_type": "code",
      "source": [
        "df_results = df_filtered.where(\"value is null\").orderBy(\"count\",ascending=False).drop(\"value\")"
      ],
      "metadata": {
        "id": "8ekimyCnbpVg"
      },
      "execution_count": 59,
      "outputs": []
    },
    {
      "cell_type": "code",
      "source": [
        "df_results.show(10)"
      ],
      "metadata": {
        "id": "DeFylYcKbq89",
        "colab": {
          "base_uri": "https://localhost:8080/"
        },
        "outputId": "8767876f-8ec2-419b-a50d-f8f8e6b8487d"
      },
      "execution_count": 60,
      "outputs": [
        {
          "output_type": "stream",
          "name": "stdout",
          "text": [
            "+-------+-----+\n",
            "|   word|count|\n",
            "+-------+-----+\n",
            "|      a| 1273|\n",
            "|       |  820|\n",
            "|Chapter|  402|\n",
            "|  great|  290|\n",
            "| Caesar|  250|\n",
            "|    The|  220|\n",
            "|    men|  188|\n",
            "|  enemy|  186|\n",
            "|Caesar,|  143|\n",
            "| number|  143|\n",
            "+-------+-----+\n",
            "only showing top 10 rows\n",
            "\n"
          ]
        }
      ]
    },
    {
      "cell_type": "code",
      "source": [],
      "metadata": {
        "id": "V3Ctwz0Ncs_K"
      },
      "execution_count": null,
      "outputs": []
    }
  ],
  "metadata": {
    "colab": {
      "provenance": [],
      "include_colab_link": true
    },
    "kernelspec": {
      "display_name": "Python 3",
      "name": "python3"
    },
    "language_info": {
      "name": "python"
    }
  },
  "nbformat": 4,
  "nbformat_minor": 0
}